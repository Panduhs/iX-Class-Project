{
 "cells": [
  {
   "cell_type": "markdown",
   "id": "b1b0c7ff",
   "metadata": {},
   "source": [
    "# Modelling"
   ]
  },
  {
   "cell_type": "code",
   "execution_count": 60,
   "id": "174ce458",
   "metadata": {},
   "outputs": [],
   "source": [
    "import numpy as np\n",
    "import pandas as pd\n",
    "import seaborn as sns\n",
    "import missingno as msno\n",
    "import featuretools as ft\n",
    "import datetime as dt\n",
    "import matplotlib.pyplot as plt\n",
    "\n",
    "plt.style.use('fivethirtyeight')\n",
    "from sklearn.ensemble import RandomForestRegressor\n",
    "from sklearn.neighbors import KNeighborsClassifier\n",
    "from sklearn.model_selection import train_test_split\n",
    "from sklearn.metrics import mean_squared_error, mean_absolute_error, r2_score"
   ]
  },
  {
   "cell_type": "code",
   "execution_count": 61,
   "id": "edd15a7e",
   "metadata": {},
   "outputs": [
    {
     "data": {
      "text/plain": [
       "travel_from        category\n",
       "car_type           category\n",
       "max_capacity          int64\n",
       "tickets               int64\n",
       "year                  int64\n",
       "month                 int64\n",
       "day                   int64\n",
       "weekday               int64\n",
       "departure_mins        int64\n",
       "departure_hour        int64\n",
       "travel_from_int        int8\n",
       "car_type_int           int8\n",
       "dtype: object"
      ]
     },
     "execution_count": 61,
     "metadata": {},
     "output_type": "execute_result"
    }
   ],
   "source": [
    "df = pd.read_pickle(\"data/train2.pkl\")\n",
    "df.dtypes"
   ]
  },
  {
   "cell_type": "code",
   "execution_count": 62,
   "id": "c32d8df8",
   "metadata": {},
   "outputs": [
    {
     "data": {
      "text/html": [
       "<div>\n",
       "<style scoped>\n",
       "    .dataframe tbody tr th:only-of-type {\n",
       "        vertical-align: middle;\n",
       "    }\n",
       "\n",
       "    .dataframe tbody tr th {\n",
       "        vertical-align: top;\n",
       "    }\n",
       "\n",
       "    .dataframe thead th {\n",
       "        text-align: right;\n",
       "    }\n",
       "</style>\n",
       "<table border=\"1\" class=\"dataframe\">\n",
       "  <thead>\n",
       "    <tr style=\"text-align: right;\">\n",
       "      <th></th>\n",
       "      <th>max_capacity</th>\n",
       "      <th>year</th>\n",
       "      <th>month</th>\n",
       "      <th>day</th>\n",
       "      <th>weekday</th>\n",
       "      <th>departure_mins</th>\n",
       "      <th>departure_hour</th>\n",
       "      <th>travel_from_int</th>\n",
       "      <th>car_type_int</th>\n",
       "    </tr>\n",
       "  </thead>\n",
       "  <tbody>\n",
       "    <tr>\n",
       "      <th>0</th>\n",
       "      <td>49</td>\n",
       "      <td>2017</td>\n",
       "      <td>10</td>\n",
       "      <td>17</td>\n",
       "      <td>1</td>\n",
       "      <td>435</td>\n",
       "      <td>7</td>\n",
       "      <td>10</td>\n",
       "      <td>0</td>\n",
       "    </tr>\n",
       "    <tr>\n",
       "      <th>1</th>\n",
       "      <td>49</td>\n",
       "      <td>2017</td>\n",
       "      <td>11</td>\n",
       "      <td>19</td>\n",
       "      <td>6</td>\n",
       "      <td>432</td>\n",
       "      <td>7</td>\n",
       "      <td>10</td>\n",
       "      <td>0</td>\n",
       "    </tr>\n",
       "    <tr>\n",
       "      <th>2</th>\n",
       "      <td>49</td>\n",
       "      <td>2017</td>\n",
       "      <td>11</td>\n",
       "      <td>26</td>\n",
       "      <td>6</td>\n",
       "      <td>425</td>\n",
       "      <td>7</td>\n",
       "      <td>5</td>\n",
       "      <td>0</td>\n",
       "    </tr>\n",
       "    <tr>\n",
       "      <th>3</th>\n",
       "      <td>49</td>\n",
       "      <td>2017</td>\n",
       "      <td>11</td>\n",
       "      <td>27</td>\n",
       "      <td>0</td>\n",
       "      <td>430</td>\n",
       "      <td>7</td>\n",
       "      <td>2</td>\n",
       "      <td>0</td>\n",
       "    </tr>\n",
       "    <tr>\n",
       "      <th>4</th>\n",
       "      <td>49</td>\n",
       "      <td>2017</td>\n",
       "      <td>11</td>\n",
       "      <td>27</td>\n",
       "      <td>0</td>\n",
       "      <td>432</td>\n",
       "      <td>7</td>\n",
       "      <td>10</td>\n",
       "      <td>0</td>\n",
       "    </tr>\n",
       "  </tbody>\n",
       "</table>\n",
       "</div>"
      ],
      "text/plain": [
       "   max_capacity  year  month  day  weekday  departure_mins  departure_hour  \\\n",
       "0            49  2017     10   17        1             435               7   \n",
       "1            49  2017     11   19        6             432               7   \n",
       "2            49  2017     11   26        6             425               7   \n",
       "3            49  2017     11   27        0             430               7   \n",
       "4            49  2017     11   27        0             432               7   \n",
       "\n",
       "   travel_from_int  car_type_int  \n",
       "0               10             0  \n",
       "1               10             0  \n",
       "2                5             0  \n",
       "3                2             0  \n",
       "4               10             0  "
      ]
     },
     "execution_count": 62,
     "metadata": {},
     "output_type": "execute_result"
    }
   ],
   "source": [
    "X = df.drop([\"tickets\", \"travel_from\", \"car_type\"], axis=1)\n",
    "X.head()"
   ]
  },
  {
   "cell_type": "code",
   "execution_count": 63,
   "id": "28efc7b8",
   "metadata": {},
   "outputs": [
    {
     "data": {
      "text/plain": [
       "0     1.0\n",
       "1     1.0\n",
       "2     1.0\n",
       "3     5.0\n",
       "4    31.0\n",
       "Name: tickets, dtype: float32"
      ]
     },
     "execution_count": 63,
     "metadata": {},
     "output_type": "execute_result"
    }
   ],
   "source": [
    "y = df.tickets.astype('float32')\n",
    "y.head()"
   ]
  },
  {
   "cell_type": "code",
   "execution_count": 64,
   "id": "a95e6b4d",
   "metadata": {},
   "outputs": [],
   "source": [
    "seed = 7\n",
    "test_size = 0.25\n",
    "X_train, X_test, y_train, y_test = train_test_split(X, y, test_size=test_size, random_state=seed)"
   ]
  },
  {
   "cell_type": "markdown",
   "id": "dee9956c",
   "metadata": {},
   "source": [
    "## Random Forest Regressor"
   ]
  },
  {
   "cell_type": "code",
   "execution_count": 65,
   "id": "9feba46e",
   "metadata": {},
   "outputs": [],
   "source": [
    "rfr = RandomForestRegressor(n_estimators=100, \n",
    "                               criterion=\"mae\", \n",
    "                               n_jobs=-1)"
   ]
  },
  {
   "cell_type": "code",
   "execution_count": 66,
   "id": "ec0626bc",
   "metadata": {},
   "outputs": [
    {
     "name": "stderr",
     "output_type": "stream",
     "text": [
      "c:\\ProgramData\\Anaconda3\\lib\\site-packages\\sklearn\\ensemble\\_forest.py:403: FutureWarning: Criterion 'mae' was deprecated in v1.0 and will be removed in version 1.2. Use `criterion='absolute_error'` which is equivalent.\n",
      "  warn(\n"
     ]
    },
    {
     "data": {
      "text/plain": [
       "RandomForestRegressor(criterion='mae', n_jobs=-1)"
      ]
     },
     "execution_count": 66,
     "metadata": {},
     "output_type": "execute_result"
    }
   ],
   "source": [
    "rfr.fit(X_train, y_train)"
   ]
  },
  {
   "cell_type": "code",
   "execution_count": 67,
   "id": "ddbded81",
   "metadata": {},
   "outputs": [],
   "source": [
    "rnr_result_set = rfr.predict(X_test)"
   ]
  },
  {
   "cell_type": "code",
   "execution_count": 68,
   "id": "16a3a3e4",
   "metadata": {},
   "outputs": [
    {
     "name": "stdout",
     "output_type": "stream",
     "text": [
      "3.325591810620602\n",
      "26.54229440179143\n",
      "0.5366910601540539\n"
     ]
    }
   ],
   "source": [
    "print(mean_absolute_error(rnr_result_set,y_test))\n",
    "print(mean_squared_error(rnr_result_set,y_test))\n",
    "print(r2_score(rnr_result_set,y_test))"
   ]
  },
  {
   "cell_type": "markdown",
   "id": "2a5db221",
   "metadata": {},
   "source": [
    "## K-Nearest Neighbor"
   ]
  },
  {
   "cell_type": "code",
   "execution_count": 69,
   "id": "01b78bd6",
   "metadata": {},
   "outputs": [],
   "source": [
    "knn1 = KNeighborsClassifier(n_neighbors=1)\n",
    "knn2 = KNeighborsClassifier(n_neighbors=2)\n",
    "knn3 = KNeighborsClassifier(n_neighbors=3)\n",
    "knn4 = KNeighborsClassifier(n_neighbors=4)\n",
    "knn5 = KNeighborsClassifier(n_neighbors=5)\n",
    "knn6 = KNeighborsClassifier(n_neighbors=6)"
   ]
  },
  {
   "cell_type": "code",
   "execution_count": 70,
   "id": "99dcb707",
   "metadata": {},
   "outputs": [
    {
     "data": {
      "text/plain": [
       "KNeighborsClassifier(n_neighbors=6)"
      ]
     },
     "execution_count": 70,
     "metadata": {},
     "output_type": "execute_result"
    }
   ],
   "source": [
    "knn1.fit(X,y)\n",
    "knn2.fit(X,y)\n",
    "knn3.fit(X,y)\n",
    "knn4.fit(X,y)\n",
    "knn5.fit(X,y)\n",
    "knn6.fit(X,y)"
   ]
  },
  {
   "cell_type": "code",
   "execution_count": 71,
   "id": "c9011f1f",
   "metadata": {},
   "outputs": [],
   "source": [
    "knn1_result_set = knn1.predict(X_test)\n",
    "knn2_result_set = knn2.predict(X_test)\n",
    "knn3_result_set = knn3.predict(X_test)\n",
    "knn4_result_set = knn4.predict(X_test)\n",
    "knn5_result_set = knn5.predict(X_test)\n",
    "knn6_result_set = knn6.predict(X_test)"
   ]
  },
  {
   "cell_type": "code",
   "execution_count": 72,
   "id": "f6d95a59",
   "metadata": {},
   "outputs": [
    {
     "name": "stdout",
     "output_type": "stream",
     "text": [
      "K = 1\t 0.0\n",
      "K = 2\t 2.0722969\n",
      "K = 3\t 3.2392833\n",
      "K = 4\t 3.9213052\n",
      "K = 5\t 4.2610364\n",
      "K = 6\t 4.578375\n"
     ]
    }
   ],
   "source": [
    "print('K = 1\\t', mean_absolute_error(knn1_result_set,y_test))\n",
    "print('K = 2\\t', mean_absolute_error(knn2_result_set,y_test))\n",
    "print('K = 3\\t', mean_absolute_error(knn3_result_set,y_test))\n",
    "print('K = 4\\t', mean_absolute_error(knn4_result_set,y_test))\n",
    "print('K = 5\\t', mean_absolute_error(knn5_result_set,y_test))\n",
    "print('K = 6\\t', mean_absolute_error(knn6_result_set,y_test))"
   ]
  },
  {
   "cell_type": "code",
   "execution_count": 73,
   "id": "cc0bb57e",
   "metadata": {},
   "outputs": [
    {
     "name": "stdout",
     "output_type": "stream",
     "text": [
      "K = 1\t 0.0\n",
      "K = 2\t 25.426104\n",
      "K = 3\t 46.3103\n",
      "K = 4\t 58.90787\n",
      "K = 5\t 67.83493\n",
      "K = 6\t 74.98273\n"
     ]
    }
   ],
   "source": [
    "print('K = 1\\t', mean_squared_error(knn1_result_set,y_test))\n",
    "print('K = 2\\t', mean_squared_error(knn2_result_set,y_test))\n",
    "print('K = 3\\t', mean_squared_error(knn3_result_set,y_test))\n",
    "print('K = 4\\t', mean_squared_error(knn4_result_set,y_test))\n",
    "print('K = 5\\t', mean_squared_error(knn5_result_set,y_test))\n",
    "print('K = 6\\t', mean_squared_error(knn6_result_set,y_test))"
   ]
  },
  {
   "cell_type": "code",
   "execution_count": 74,
   "id": "2d778868",
   "metadata": {},
   "outputs": [
    {
     "name": "stdout",
     "output_type": "stream",
     "text": [
      "K = 1\t 1.0\n",
      "K = 2\t 0.5678404928008414\n",
      "K = 3\t -0.023010335699968243\n",
      "K = 4\t -0.4165367007098002\n",
      "K = 5\t -0.5600249017986427\n",
      "K = 6\t -0.7862653459478917\n"
     ]
    }
   ],
   "source": [
    "print('K = 1\\t', r2_score(knn1_result_set,y_test))\n",
    "print('K = 2\\t', r2_score(knn2_result_set,y_test))\n",
    "print('K = 3\\t', r2_score(knn3_result_set,y_test))\n",
    "print('K = 4\\t', r2_score(knn4_result_set,y_test))\n",
    "print('K = 5\\t', r2_score(knn5_result_set,y_test))\n",
    "print('K = 6\\t', r2_score(knn6_result_set,y_test))"
   ]
  },
  {
   "cell_type": "code",
   "execution_count": 75,
   "id": "8184ad33",
   "metadata": {},
   "outputs": [
    {
     "name": "stderr",
     "output_type": "stream",
     "text": [
      "c:\\ProgramData\\Anaconda3\\lib\\site-packages\\sklearn\\model_selection\\_split.py:676: UserWarning: The least populated class in y has only 1 members, which is less than n_splits=7.\n",
      "  warnings.warn(\n"
     ]
    },
    {
     "data": {
      "text/html": [
       "<div>\n",
       "<style scoped>\n",
       "    .dataframe tbody tr th:only-of-type {\n",
       "        vertical-align: middle;\n",
       "    }\n",
       "\n",
       "    .dataframe tbody tr th {\n",
       "        vertical-align: top;\n",
       "    }\n",
       "\n",
       "    .dataframe thead th {\n",
       "        text-align: right;\n",
       "    }\n",
       "</style>\n",
       "<table border=\"1\" class=\"dataframe\">\n",
       "  <thead>\n",
       "    <tr style=\"text-align: right;\">\n",
       "      <th></th>\n",
       "      <th>fit_time</th>\n",
       "      <th>score_time</th>\n",
       "      <th>test_negMSE</th>\n",
       "      <th>test_negMAE</th>\n",
       "    </tr>\n",
       "  </thead>\n",
       "  <tbody>\n",
       "    <tr>\n",
       "      <th>0</th>\n",
       "      <td>0.007326</td>\n",
       "      <td>0.023241</td>\n",
       "      <td>-102.881302</td>\n",
       "      <td>-6.216125</td>\n",
       "    </tr>\n",
       "    <tr>\n",
       "      <th>1</th>\n",
       "      <td>0.007025</td>\n",
       "      <td>0.021983</td>\n",
       "      <td>-81.292274</td>\n",
       "      <td>-6.002240</td>\n",
       "    </tr>\n",
       "    <tr>\n",
       "      <th>2</th>\n",
       "      <td>0.005999</td>\n",
       "      <td>0.027079</td>\n",
       "      <td>-82.390816</td>\n",
       "      <td>-5.465846</td>\n",
       "    </tr>\n",
       "    <tr>\n",
       "      <th>3</th>\n",
       "      <td>0.007004</td>\n",
       "      <td>0.023678</td>\n",
       "      <td>-79.270996</td>\n",
       "      <td>-5.497200</td>\n",
       "    </tr>\n",
       "    <tr>\n",
       "      <th>4</th>\n",
       "      <td>0.006920</td>\n",
       "      <td>0.023188</td>\n",
       "      <td>-77.034714</td>\n",
       "      <td>-5.643897</td>\n",
       "    </tr>\n",
       "    <tr>\n",
       "      <th>5</th>\n",
       "      <td>0.007000</td>\n",
       "      <td>0.022383</td>\n",
       "      <td>-86.354263</td>\n",
       "      <td>-6.105381</td>\n",
       "    </tr>\n",
       "    <tr>\n",
       "      <th>6</th>\n",
       "      <td>0.008002</td>\n",
       "      <td>0.027929</td>\n",
       "      <td>-72.359863</td>\n",
       "      <td>-5.853139</td>\n",
       "    </tr>\n",
       "  </tbody>\n",
       "</table>\n",
       "</div>"
      ],
      "text/plain": [
       "   fit_time  score_time  test_negMSE  test_negMAE\n",
       "0  0.007326    0.023241  -102.881302    -6.216125\n",
       "1  0.007025    0.021983   -81.292274    -6.002240\n",
       "2  0.005999    0.027079   -82.390816    -5.465846\n",
       "3  0.007004    0.023678   -79.270996    -5.497200\n",
       "4  0.006920    0.023188   -77.034714    -5.643897\n",
       "5  0.007000    0.022383   -86.354263    -6.105381\n",
       "6  0.008002    0.027929   -72.359863    -5.853139"
      ]
     },
     "execution_count": 75,
     "metadata": {},
     "output_type": "execute_result"
    }
   ],
   "source": [
    "from sklearn.model_selection import cross_validate\n",
    "scoring_functions = {\"negMSE\": \"neg_mean_squared_error\", \"negMAE\": \"neg_mean_absolute_error\"}\n",
    "cv_info = cross_validate(estimator=knn3, X=X, y=y, scoring=scoring_functions, cv=7, return_train_score=False)\n",
    "cv_df = pd.DataFrame(cv_info)\n",
    "cv_df"
   ]
  },
  {
   "cell_type": "code",
   "execution_count": 95,
   "id": "65565991",
   "metadata": {},
   "outputs": [
    {
     "name": "stderr",
     "output_type": "stream",
     "text": [
      "c:\\ProgramData\\Anaconda3\\lib\\site-packages\\sklearn\\model_selection\\_split.py:676: UserWarning: The least populated class in y has only 1 members, which is less than n_splits=7.\n",
      "  warnings.warn(\n"
     ]
    },
    {
     "data": {
      "text/plain": [
       "<Figure size 640x480 with 0 Axes>"
      ]
     },
     "execution_count": 95,
     "metadata": {},
     "output_type": "execute_result"
    },
    {
     "data": {
      "image/png": "[encoded data removed]",
      "text/plain": [
       "<Figure size 432x288 with 1 Axes>"
      ]
     },
     "metadata": {},
     "output_type": "display_data"
    },
    {
     "data": {
      "text/plain": [
       "<Figure size 640x480 with 0 Axes>"
      ]
     },
     "metadata": {},
     "output_type": "display_data"
    }
   ],
   "source": [
    "#plots the validation curve of K's up to 10\n",
    "\n",
    "from sklearn.model_selection import validation_curve\n",
    "from matplotlib.pyplot import figure\n",
    "Ks= np.arange(0,10)\n",
    "train_score, val_score = validation_curve(KNeighborsClassifier(), X, y, param_name = 'n_neighbors', param_range = Ks, cv = 7)\n",
    "plt.plot(Ks, np.median(train_score,1), color = 'blue', label = 'training score')\n",
    "plt.plot(Ks, np.median(val_score,1), color = 'red', label = 'validation score')\n",
    "plt.legend(loc = 'best')\n",
    "plt.ylim = (0,1)\n",
    "plt.xlabel('Number of Neighbors')\n",
    "plt.ylabel('Score')\n",
    "figure(figsize=(8, 6), dpi=80)"
   ]
  },
  {
   "cell_type": "code",
   "execution_count": 96,
   "id": "7373caaa",
   "metadata": {},
   "outputs": [
    {
     "name": "stderr",
     "output_type": "stream",
     "text": [
      "c:\\ProgramData\\Anaconda3\\lib\\site-packages\\sklearn\\model_selection\\_split.py:676: UserWarning: The least populated class in y has only 1 members, which is less than n_splits=7.\n",
      "  warnings.warn(\n",
      "c:\\ProgramData\\Anaconda3\\lib\\site-packages\\sklearn\\model_selection\\_split.py:676: UserWarning: The least populated class in y has only 1 members, which is less than n_splits=7.\n",
      "  warnings.warn(\n"
     ]
    },
    {
     "data": {
      "image/png": "[encoded data removed]",
      "text/plain": [
       "<Figure size 1152x432 with 2 Axes>"
      ]
     },
     "metadata": {},
     "output_type": "display_data"
    }
   ],
   "source": [
    "from sklearn.model_selection import learning_curve\n",
    "\n",
    "fig,ax = plt.subplots(1, 2, figsize = (16,6))\n",
    "fig.subplots_adjust(left = 0.0625, right = 0.95, wspace = 0.1)\n",
    "\n",
    "for i, k in enumerate([2,9]):\n",
    "    N, train_lc, val_lc = learning_curve(KNeighborsClassifier(k), X, y, cv=7, train_sizes = np.linspace(0.3,1,25))\n",
    "    ax[i].plot(N, np.mean(train_lc, 1), color = 'blue', label = 'training score')\n",
    "    ax[i].plot(N, np.mean(val_lc, 1), color = 'red', label = 'validation score')\n",
    "    ax[i].hlines(np.mean([train_lc[-1], val_lc[-1]]), N[0], N[-1], color = 'gray', linestyle = 'dashed')\n",
    "\n"
   ]
  },
  {
   "cell_type": "code",
   "execution_count": null,
   "id": "7fc62e53",
   "metadata": {},
   "outputs": [],
   "source": []
  },
  {
   "cell_type": "markdown",
   "id": "0cb91a17",
   "metadata": {},
   "source": [
    "## Testing Random Forest Regressor on test data"
   ]
  },
  {
   "cell_type": "code",
   "execution_count": 48,
   "id": "f9533bf4",
   "metadata": {},
   "outputs": [
    {
     "data": {
      "text/html": [
       "<div>\n",
       "<style scoped>\n",
       "    .dataframe tbody tr th:only-of-type {\n",
       "        vertical-align: middle;\n",
       "    }\n",
       "\n",
       "    .dataframe tbody tr th {\n",
       "        vertical-align: top;\n",
       "    }\n",
       "\n",
       "    .dataframe thead th {\n",
       "        text-align: right;\n",
       "    }\n",
       "</style>\n",
       "<table border=\"1\" class=\"dataframe\">\n",
       "  <thead>\n",
       "    <tr style=\"text-align: right;\">\n",
       "      <th></th>\n",
       "      <th>ride_id</th>\n",
       "      <th>travel_date</th>\n",
       "      <th>travel_time</th>\n",
       "      <th>travel_from</th>\n",
       "      <th>travel_to</th>\n",
       "      <th>car_type</th>\n",
       "      <th>max_capacity</th>\n",
       "    </tr>\n",
       "  </thead>\n",
       "  <tbody>\n",
       "    <tr>\n",
       "      <th>0</th>\n",
       "      <td>247</td>\n",
       "      <td>2018-05-07</td>\n",
       "      <td>07:06</td>\n",
       "      <td>Kisii</td>\n",
       "      <td>Nairobi</td>\n",
       "      <td>Bus</td>\n",
       "      <td>49</td>\n",
       "    </tr>\n",
       "    <tr>\n",
       "      <th>1</th>\n",
       "      <td>256</td>\n",
       "      <td>2018-05-06</td>\n",
       "      <td>11:08</td>\n",
       "      <td>Kisii</td>\n",
       "      <td>Nairobi</td>\n",
       "      <td>shuttle</td>\n",
       "      <td>11</td>\n",
       "    </tr>\n",
       "    <tr>\n",
       "      <th>2</th>\n",
       "      <td>275</td>\n",
       "      <td>2018-05-04</td>\n",
       "      <td>05:00</td>\n",
       "      <td>Kisii</td>\n",
       "      <td>Nairobi</td>\n",
       "      <td>shuttle</td>\n",
       "      <td>11</td>\n",
       "    </tr>\n",
       "    <tr>\n",
       "      <th>3</th>\n",
       "      <td>285</td>\n",
       "      <td>2018-05-04</td>\n",
       "      <td>09:10</td>\n",
       "      <td>Kisii</td>\n",
       "      <td>Nairobi</td>\n",
       "      <td>shuttle</td>\n",
       "      <td>11</td>\n",
       "    </tr>\n",
       "    <tr>\n",
       "      <th>4</th>\n",
       "      <td>286</td>\n",
       "      <td>2018-05-04</td>\n",
       "      <td>09:20</td>\n",
       "      <td>Kisii</td>\n",
       "      <td>Nairobi</td>\n",
       "      <td>shuttle</td>\n",
       "      <td>11</td>\n",
       "    </tr>\n",
       "    <tr>\n",
       "      <th>5</th>\n",
       "      <td>287</td>\n",
       "      <td>2018-05-04</td>\n",
       "      <td>07:02</td>\n",
       "      <td>Kisii</td>\n",
       "      <td>Nairobi</td>\n",
       "      <td>Bus</td>\n",
       "      <td>49</td>\n",
       "    </tr>\n",
       "    <tr>\n",
       "      <th>6</th>\n",
       "      <td>288</td>\n",
       "      <td>2018-05-04</td>\n",
       "      <td>09:30</td>\n",
       "      <td>Kisii</td>\n",
       "      <td>Nairobi</td>\n",
       "      <td>shuttle</td>\n",
       "      <td>11</td>\n",
       "    </tr>\n",
       "    <tr>\n",
       "      <th>7</th>\n",
       "      <td>292</td>\n",
       "      <td>2018-05-04</td>\n",
       "      <td>19:03</td>\n",
       "      <td>Kisii</td>\n",
       "      <td>Nairobi</td>\n",
       "      <td>Bus</td>\n",
       "      <td>49</td>\n",
       "    </tr>\n",
       "    <tr>\n",
       "      <th>8</th>\n",
       "      <td>298</td>\n",
       "      <td>2018-05-04</td>\n",
       "      <td>09:00</td>\n",
       "      <td>Kisii</td>\n",
       "      <td>Nairobi</td>\n",
       "      <td>shuttle</td>\n",
       "      <td>11</td>\n",
       "    </tr>\n",
       "    <tr>\n",
       "      <th>9</th>\n",
       "      <td>302</td>\n",
       "      <td>2018-05-04</td>\n",
       "      <td>08:40</td>\n",
       "      <td>Kisii</td>\n",
       "      <td>Nairobi</td>\n",
       "      <td>shuttle</td>\n",
       "      <td>11</td>\n",
       "    </tr>\n",
       "    <tr>\n",
       "      <th>10</th>\n",
       "      <td>310</td>\n",
       "      <td>2018-05-04</td>\n",
       "      <td>08:00</td>\n",
       "      <td>Kisii</td>\n",
       "      <td>Nairobi</td>\n",
       "      <td>Bus</td>\n",
       "      <td>49</td>\n",
       "    </tr>\n",
       "    <tr>\n",
       "      <th>11</th>\n",
       "      <td>311</td>\n",
       "      <td>2018-05-04</td>\n",
       "      <td>08:50</td>\n",
       "      <td>Kisii</td>\n",
       "      <td>Nairobi</td>\n",
       "      <td>shuttle</td>\n",
       "      <td>11</td>\n",
       "    </tr>\n",
       "    <tr>\n",
       "      <th>12</th>\n",
       "      <td>329</td>\n",
       "      <td>2018-05-04</td>\n",
       "      <td>07:01</td>\n",
       "      <td>Kisii</td>\n",
       "      <td>Nairobi</td>\n",
       "      <td>Bus</td>\n",
       "      <td>49</td>\n",
       "    </tr>\n",
       "    <tr>\n",
       "      <th>13</th>\n",
       "      <td>341</td>\n",
       "      <td>2018-05-04</td>\n",
       "      <td>08:20</td>\n",
       "      <td>Kisii</td>\n",
       "      <td>Nairobi</td>\n",
       "      <td>shuttle</td>\n",
       "      <td>11</td>\n",
       "    </tr>\n",
       "    <tr>\n",
       "      <th>14</th>\n",
       "      <td>344</td>\n",
       "      <td>2018-05-04</td>\n",
       "      <td>08:30</td>\n",
       "      <td>Kisii</td>\n",
       "      <td>Nairobi</td>\n",
       "      <td>shuttle</td>\n",
       "      <td>11</td>\n",
       "    </tr>\n",
       "    <tr>\n",
       "      <th>15</th>\n",
       "      <td>358</td>\n",
       "      <td>2018-05-04</td>\n",
       "      <td>08:10</td>\n",
       "      <td>Kisii</td>\n",
       "      <td>Nairobi</td>\n",
       "      <td>shuttle</td>\n",
       "      <td>11</td>\n",
       "    </tr>\n",
       "    <tr>\n",
       "      <th>16</th>\n",
       "      <td>364</td>\n",
       "      <td>2018-05-04</td>\n",
       "      <td>07:15</td>\n",
       "      <td>Kisii</td>\n",
       "      <td>Nairobi</td>\n",
       "      <td>shuttle</td>\n",
       "      <td>11</td>\n",
       "    </tr>\n",
       "    <tr>\n",
       "      <th>17</th>\n",
       "      <td>373</td>\n",
       "      <td>2018-05-04</td>\n",
       "      <td>07:50</td>\n",
       "      <td>Kisii</td>\n",
       "      <td>Nairobi</td>\n",
       "      <td>shuttle</td>\n",
       "      <td>11</td>\n",
       "    </tr>\n",
       "    <tr>\n",
       "      <th>18</th>\n",
       "      <td>374</td>\n",
       "      <td>2018-05-04</td>\n",
       "      <td>07:40</td>\n",
       "      <td>Kisii</td>\n",
       "      <td>Nairobi</td>\n",
       "      <td>shuttle</td>\n",
       "      <td>11</td>\n",
       "    </tr>\n",
       "    <tr>\n",
       "      <th>19</th>\n",
       "      <td>377</td>\n",
       "      <td>2018-05-04</td>\n",
       "      <td>07:07</td>\n",
       "      <td>Kisii</td>\n",
       "      <td>Nairobi</td>\n",
       "      <td>Bus</td>\n",
       "      <td>49</td>\n",
       "    </tr>\n",
       "    <tr>\n",
       "      <th>20</th>\n",
       "      <td>399</td>\n",
       "      <td>2018-05-04</td>\n",
       "      <td>06:40</td>\n",
       "      <td>Kisii</td>\n",
       "      <td>Nairobi</td>\n",
       "      <td>shuttle</td>\n",
       "      <td>11</td>\n",
       "    </tr>\n",
       "    <tr>\n",
       "      <th>21</th>\n",
       "      <td>401</td>\n",
       "      <td>2018-05-04</td>\n",
       "      <td>06:30</td>\n",
       "      <td>Kisii</td>\n",
       "      <td>Nairobi</td>\n",
       "      <td>shuttle</td>\n",
       "      <td>11</td>\n",
       "    </tr>\n",
       "    <tr>\n",
       "      <th>22</th>\n",
       "      <td>410</td>\n",
       "      <td>2018-05-04</td>\n",
       "      <td>06:20</td>\n",
       "      <td>Kisii</td>\n",
       "      <td>Nairobi</td>\n",
       "      <td>shuttle</td>\n",
       "      <td>11</td>\n",
       "    </tr>\n",
       "    <tr>\n",
       "      <th>23</th>\n",
       "      <td>418</td>\n",
       "      <td>2018-05-04</td>\n",
       "      <td>07:06</td>\n",
       "      <td>Kisii</td>\n",
       "      <td>Nairobi</td>\n",
       "      <td>Bus</td>\n",
       "      <td>49</td>\n",
       "    </tr>\n",
       "    <tr>\n",
       "      <th>24</th>\n",
       "      <td>427</td>\n",
       "      <td>2018-05-04</td>\n",
       "      <td>06:10</td>\n",
       "      <td>Kisii</td>\n",
       "      <td>Nairobi</td>\n",
       "      <td>shuttle</td>\n",
       "      <td>11</td>\n",
       "    </tr>\n",
       "    <tr>\n",
       "      <th>25</th>\n",
       "      <td>432</td>\n",
       "      <td>2018-05-04</td>\n",
       "      <td>05:40</td>\n",
       "      <td>Kisii</td>\n",
       "      <td>Nairobi</td>\n",
       "      <td>shuttle</td>\n",
       "      <td>11</td>\n",
       "    </tr>\n",
       "    <tr>\n",
       "      <th>26</th>\n",
       "      <td>434</td>\n",
       "      <td>2018-05-04</td>\n",
       "      <td>05:50</td>\n",
       "      <td>Kisii</td>\n",
       "      <td>Nairobi</td>\n",
       "      <td>shuttle</td>\n",
       "      <td>11</td>\n",
       "    </tr>\n",
       "    <tr>\n",
       "      <th>27</th>\n",
       "      <td>436</td>\n",
       "      <td>2018-05-04</td>\n",
       "      <td>05:30</td>\n",
       "      <td>Kisii</td>\n",
       "      <td>Nairobi</td>\n",
       "      <td>shuttle</td>\n",
       "      <td>11</td>\n",
       "    </tr>\n",
       "    <tr>\n",
       "      <th>28</th>\n",
       "      <td>438</td>\n",
       "      <td>2018-05-04</td>\n",
       "      <td>19:04</td>\n",
       "      <td>Kisii</td>\n",
       "      <td>Nairobi</td>\n",
       "      <td>Bus</td>\n",
       "      <td>49</td>\n",
       "    </tr>\n",
       "    <tr>\n",
       "      <th>29</th>\n",
       "      <td>464</td>\n",
       "      <td>2018-05-03</td>\n",
       "      <td>05:20</td>\n",
       "      <td>Kisii</td>\n",
       "      <td>Nairobi</td>\n",
       "      <td>shuttle</td>\n",
       "      <td>11</td>\n",
       "    </tr>\n",
       "  </tbody>\n",
       "</table>\n",
       "</div>"
      ],
      "text/plain": [
       "    ride_id travel_date travel_time travel_from travel_to car_type  \\\n",
       "0       247  2018-05-07       07:06       Kisii   Nairobi      Bus   \n",
       "1       256  2018-05-06       11:08       Kisii   Nairobi  shuttle   \n",
       "2       275  2018-05-04       05:00       Kisii   Nairobi  shuttle   \n",
       "3       285  2018-05-04       09:10       Kisii   Nairobi  shuttle   \n",
       "4       286  2018-05-04       09:20       Kisii   Nairobi  shuttle   \n",
       "5       287  2018-05-04       07:02       Kisii   Nairobi      Bus   \n",
       "6       288  2018-05-04       09:30       Kisii   Nairobi  shuttle   \n",
       "7       292  2018-05-04       19:03       Kisii   Nairobi      Bus   \n",
       "8       298  2018-05-04       09:00       Kisii   Nairobi  shuttle   \n",
       "9       302  2018-05-04       08:40       Kisii   Nairobi  shuttle   \n",
       "10      310  2018-05-04       08:00       Kisii   Nairobi      Bus   \n",
       "11      311  2018-05-04       08:50       Kisii   Nairobi  shuttle   \n",
       "12      329  2018-05-04       07:01       Kisii   Nairobi      Bus   \n",
       "13      341  2018-05-04       08:20       Kisii   Nairobi  shuttle   \n",
       "14      344  2018-05-04       08:30       Kisii   Nairobi  shuttle   \n",
       "15      358  2018-05-04       08:10       Kisii   Nairobi  shuttle   \n",
       "16      364  2018-05-04       07:15       Kisii   Nairobi  shuttle   \n",
       "17      373  2018-05-04       07:50       Kisii   Nairobi  shuttle   \n",
       "18      374  2018-05-04       07:40       Kisii   Nairobi  shuttle   \n",
       "19      377  2018-05-04       07:07       Kisii   Nairobi      Bus   \n",
       "20      399  2018-05-04       06:40       Kisii   Nairobi  shuttle   \n",
       "21      401  2018-05-04       06:30       Kisii   Nairobi  shuttle   \n",
       "22      410  2018-05-04       06:20       Kisii   Nairobi  shuttle   \n",
       "23      418  2018-05-04       07:06       Kisii   Nairobi      Bus   \n",
       "24      427  2018-05-04       06:10       Kisii   Nairobi  shuttle   \n",
       "25      432  2018-05-04       05:40       Kisii   Nairobi  shuttle   \n",
       "26      434  2018-05-04       05:50       Kisii   Nairobi  shuttle   \n",
       "27      436  2018-05-04       05:30       Kisii   Nairobi  shuttle   \n",
       "28      438  2018-05-04       19:04       Kisii   Nairobi      Bus   \n",
       "29      464  2018-05-03       05:20       Kisii   Nairobi  shuttle   \n",
       "\n",
       "    max_capacity  \n",
       "0             49  \n",
       "1             11  \n",
       "2             11  \n",
       "3             11  \n",
       "4             11  \n",
       "5             49  \n",
       "6             11  \n",
       "7             49  \n",
       "8             11  \n",
       "9             11  \n",
       "10            49  \n",
       "11            11  \n",
       "12            49  \n",
       "13            11  \n",
       "14            11  \n",
       "15            11  \n",
       "16            11  \n",
       "17            11  \n",
       "18            11  \n",
       "19            49  \n",
       "20            11  \n",
       "21            11  \n",
       "22            11  \n",
       "23            49  \n",
       "24            11  \n",
       "25            11  \n",
       "26            11  \n",
       "27            11  \n",
       "28            49  \n",
       "29            11  "
      ]
     },
     "execution_count": 48,
     "metadata": {},
     "output_type": "execute_result"
    }
   ],
   "source": [
    "df_test = pd.read_csv(\"data/test_questions.csv\")\n",
    "df_test.head(30)"
   ]
  },
  {
   "cell_type": "code",
   "execution_count": 49,
   "id": "e5bea26d",
   "metadata": {},
   "outputs": [
    {
     "data": {
      "text/html": [
       "<div>\n",
       "<style scoped>\n",
       "    .dataframe tbody tr th:only-of-type {\n",
       "        vertical-align: middle;\n",
       "    }\n",
       "\n",
       "    .dataframe tbody tr th {\n",
       "        vertical-align: top;\n",
       "    }\n",
       "\n",
       "    .dataframe thead th {\n",
       "        text-align: right;\n",
       "    }\n",
       "</style>\n",
       "<table border=\"1\" class=\"dataframe\">\n",
       "  <thead>\n",
       "    <tr style=\"text-align: right;\">\n",
       "      <th></th>\n",
       "      <th>ride_id</th>\n",
       "      <th>travel_date</th>\n",
       "      <th>travel_time</th>\n",
       "      <th>travel_from</th>\n",
       "      <th>travel_to</th>\n",
       "      <th>car_type</th>\n",
       "      <th>max_capacity</th>\n",
       "      <th>tickets</th>\n",
       "    </tr>\n",
       "  </thead>\n",
       "  <tbody>\n",
       "    <tr>\n",
       "      <th>0</th>\n",
       "      <td>247</td>\n",
       "      <td>2018-05-07</td>\n",
       "      <td>07:06</td>\n",
       "      <td>Kisii</td>\n",
       "      <td>Nairobi</td>\n",
       "      <td>Bus</td>\n",
       "      <td>49</td>\n",
       "      <td>1</td>\n",
       "    </tr>\n",
       "    <tr>\n",
       "      <th>1</th>\n",
       "      <td>256</td>\n",
       "      <td>2018-05-06</td>\n",
       "      <td>11:08</td>\n",
       "      <td>Kisii</td>\n",
       "      <td>Nairobi</td>\n",
       "      <td>shuttle</td>\n",
       "      <td>11</td>\n",
       "      <td>1</td>\n",
       "    </tr>\n",
       "    <tr>\n",
       "      <th>2</th>\n",
       "      <td>275</td>\n",
       "      <td>2018-05-04</td>\n",
       "      <td>05:00</td>\n",
       "      <td>Kisii</td>\n",
       "      <td>Nairobi</td>\n",
       "      <td>shuttle</td>\n",
       "      <td>11</td>\n",
       "      <td>1</td>\n",
       "    </tr>\n",
       "    <tr>\n",
       "      <th>3</th>\n",
       "      <td>285</td>\n",
       "      <td>2018-05-04</td>\n",
       "      <td>09:10</td>\n",
       "      <td>Kisii</td>\n",
       "      <td>Nairobi</td>\n",
       "      <td>shuttle</td>\n",
       "      <td>11</td>\n",
       "      <td>1</td>\n",
       "    </tr>\n",
       "    <tr>\n",
       "      <th>4</th>\n",
       "      <td>286</td>\n",
       "      <td>2018-05-04</td>\n",
       "      <td>09:20</td>\n",
       "      <td>Kisii</td>\n",
       "      <td>Nairobi</td>\n",
       "      <td>shuttle</td>\n",
       "      <td>11</td>\n",
       "      <td>1</td>\n",
       "    </tr>\n",
       "  </tbody>\n",
       "</table>\n",
       "</div>"
      ],
      "text/plain": [
       "   ride_id travel_date travel_time travel_from travel_to car_type  \\\n",
       "0      247  2018-05-07       07:06       Kisii   Nairobi      Bus   \n",
       "1      256  2018-05-06       11:08       Kisii   Nairobi  shuttle   \n",
       "2      275  2018-05-04       05:00       Kisii   Nairobi  shuttle   \n",
       "3      285  2018-05-04       09:10       Kisii   Nairobi  shuttle   \n",
       "4      286  2018-05-04       09:20       Kisii   Nairobi  shuttle   \n",
       "\n",
       "   max_capacity  tickets  \n",
       "0            49        1  \n",
       "1            11        1  \n",
       "2            11        1  \n",
       "3            11        1  \n",
       "4            11        1  "
      ]
     },
     "execution_count": 49,
     "metadata": {},
     "output_type": "execute_result"
    }
   ],
   "source": [
    "tickets_df = df_test.groupby(by=['ride_id'])['ride_id'].count().to_frame()\n",
    "tickets_df = tickets_df.rename(columns = {'ride_id':'tickets'})\n",
    "df_test = pd.merge(df_test,tickets_df,on='ride_id')\n",
    "df_test.head()"
   ]
  },
  {
   "cell_type": "code",
   "execution_count": 50,
   "id": "0b3370b7",
   "metadata": {},
   "outputs": [
    {
     "name": "stdout",
     "output_type": "stream",
     "text": [
      "1111\n"
     ]
    },
    {
     "data": {
      "text/plain": [
       "(1111, 8)"
      ]
     },
     "execution_count": 50,
     "metadata": {},
     "output_type": "execute_result"
    }
   ],
   "source": [
    "print(len(df_test['ride_id'].unique()))\n",
    "df_test.shape"
   ]
  },
  {
   "cell_type": "code",
   "execution_count": 51,
   "id": "0248be44",
   "metadata": {},
   "outputs": [
    {
     "data": {
      "text/plain": [
       "ride_id                     int64\n",
       "travel_date        datetime64[ns]\n",
       "travel_time                object\n",
       "travel_from              category\n",
       "travel_to                  object\n",
       "car_type                 category\n",
       "max_capacity                int64\n",
       "tickets                     int64\n",
       "year                        int64\n",
       "month                       int64\n",
       "day                         int64\n",
       "weekday                     int64\n",
       "departure_mins              int64\n",
       "hour                        int64\n",
       "travel_from_cat              int8\n",
       "car_type_int                 int8\n",
       "dtype: object"
      ]
     },
     "execution_count": 51,
     "metadata": {},
     "output_type": "execute_result"
    }
   ],
   "source": [
    "df_test['year'] = pd.DatetimeIndex(df_test['travel_date']).year\n",
    "df_test['month'] = pd.DatetimeIndex(df_test['travel_date']).month\n",
    "df_test['day'] = pd.DatetimeIndex(df_test['travel_date']).day\n",
    "\n",
    "df_test['travel_date'] = pd.to_datetime(df_test[\"travel_date\"], format = \"%Y-%m-%d\")\n",
    "df_test[\"weekday\"] = df_test[\"travel_date\"].dt.dayofweek\n",
    "\n",
    "df_test[\"departure_mins\"] = df_test[\"travel_time\"].str.split(':').apply(lambda x: int(x[0]) * 60 + int(x[1]))\n",
    "df_test['hour'] = df_test.travel_time.map(lambda x: pd.to_datetime(x).hour)\n",
    "\n",
    "df_test[\"travel_from\"] = pd.Categorical(df_test[\"travel_from\"])\n",
    "travel_from_categories = df_test.travel_from.cat.categories\n",
    "df_test[\"travel_from_cat\"] = df_test.travel_from.cat.codes\n",
    "df_test[\"travel_from_cat\"] = df_test[\"travel_from_cat\"] + 1\n",
    "\n",
    "df_test[\"car_type\"] = pd.Categorical(df_test[\"car_type\"])\n",
    "car_type_categories = df_test.car_type.cat.categories\n",
    "df_test[\"car_type_int\"] = df_test.car_type.cat.codes\n",
    "\n",
    "\n",
    "df_test.dtypes"
   ]
  },
  {
   "cell_type": "code",
   "execution_count": 52,
   "id": "13bec19b",
   "metadata": {},
   "outputs": [],
   "source": [
    "cols_to_drop = ['travel_date', 'travel_time',\n",
    "                'travel_to', 'travel_from', 'car_type']\n",
    "df_test1 = df_test.drop(columns = cols_to_drop, axis=0)"
   ]
  },
  {
   "cell_type": "code",
   "execution_count": 53,
   "id": "6dcb76ee",
   "metadata": {},
   "outputs": [
    {
     "data": {
      "text/html": [
       "<div>\n",
       "<style scoped>\n",
       "    .dataframe tbody tr th:only-of-type {\n",
       "        vertical-align: middle;\n",
       "    }\n",
       "\n",
       "    .dataframe tbody tr th {\n",
       "        vertical-align: top;\n",
       "    }\n",
       "\n",
       "    .dataframe thead th {\n",
       "        text-align: right;\n",
       "    }\n",
       "</style>\n",
       "<table border=\"1\" class=\"dataframe\">\n",
       "  <thead>\n",
       "    <tr style=\"text-align: right;\">\n",
       "      <th></th>\n",
       "      <th>ride_id</th>\n",
       "      <th>max_capacity</th>\n",
       "      <th>tickets</th>\n",
       "      <th>year</th>\n",
       "      <th>month</th>\n",
       "      <th>day</th>\n",
       "      <th>weekday</th>\n",
       "      <th>departure_mins</th>\n",
       "      <th>hour</th>\n",
       "      <th>travel_from_cat</th>\n",
       "      <th>car_type_int</th>\n",
       "    </tr>\n",
       "  </thead>\n",
       "  <tbody>\n",
       "    <tr>\n",
       "      <th>0</th>\n",
       "      <td>247</td>\n",
       "      <td>49</td>\n",
       "      <td>1</td>\n",
       "      <td>2018</td>\n",
       "      <td>5</td>\n",
       "      <td>7</td>\n",
       "      <td>0</td>\n",
       "      <td>426</td>\n",
       "      <td>7</td>\n",
       "      <td>6</td>\n",
       "      <td>0</td>\n",
       "    </tr>\n",
       "    <tr>\n",
       "      <th>1</th>\n",
       "      <td>256</td>\n",
       "      <td>11</td>\n",
       "      <td>1</td>\n",
       "      <td>2018</td>\n",
       "      <td>5</td>\n",
       "      <td>6</td>\n",
       "      <td>6</td>\n",
       "      <td>668</td>\n",
       "      <td>11</td>\n",
       "      <td>6</td>\n",
       "      <td>1</td>\n",
       "    </tr>\n",
       "    <tr>\n",
       "      <th>2</th>\n",
       "      <td>275</td>\n",
       "      <td>11</td>\n",
       "      <td>1</td>\n",
       "      <td>2018</td>\n",
       "      <td>5</td>\n",
       "      <td>4</td>\n",
       "      <td>4</td>\n",
       "      <td>300</td>\n",
       "      <td>5</td>\n",
       "      <td>6</td>\n",
       "      <td>1</td>\n",
       "    </tr>\n",
       "    <tr>\n",
       "      <th>3</th>\n",
       "      <td>285</td>\n",
       "      <td>11</td>\n",
       "      <td>1</td>\n",
       "      <td>2018</td>\n",
       "      <td>5</td>\n",
       "      <td>4</td>\n",
       "      <td>4</td>\n",
       "      <td>550</td>\n",
       "      <td>9</td>\n",
       "      <td>6</td>\n",
       "      <td>1</td>\n",
       "    </tr>\n",
       "    <tr>\n",
       "      <th>4</th>\n",
       "      <td>286</td>\n",
       "      <td>11</td>\n",
       "      <td>1</td>\n",
       "      <td>2018</td>\n",
       "      <td>5</td>\n",
       "      <td>4</td>\n",
       "      <td>4</td>\n",
       "      <td>560</td>\n",
       "      <td>9</td>\n",
       "      <td>6</td>\n",
       "      <td>1</td>\n",
       "    </tr>\n",
       "  </tbody>\n",
       "</table>\n",
       "</div>"
      ],
      "text/plain": [
       "   ride_id  max_capacity  tickets  year  month  day  weekday  departure_mins  \\\n",
       "0      247            49        1  2018      5    7        0             426   \n",
       "1      256            11        1  2018      5    6        6             668   \n",
       "2      275            11        1  2018      5    4        4             300   \n",
       "3      285            11        1  2018      5    4        4             550   \n",
       "4      286            11        1  2018      5    4        4             560   \n",
       "\n",
       "   hour  travel_from_cat  car_type_int  \n",
       "0     7                6             0  \n",
       "1    11                6             1  \n",
       "2     5                6             1  \n",
       "3     9                6             1  \n",
       "4     9                6             1  "
      ]
     },
     "execution_count": 53,
     "metadata": {},
     "output_type": "execute_result"
    }
   ],
   "source": [
    "df_test1.head()"
   ]
  },
  {
   "cell_type": "code",
   "execution_count": 54,
   "id": "8cfc7fad",
   "metadata": {},
   "outputs": [
    {
     "name": "stderr",
     "output_type": "stream",
     "text": [
      "c:\\ProgramData\\Anaconda3\\lib\\site-packages\\sklearn\\base.py:493: FutureWarning: The feature names should match those that were passed during fit. Starting version 1.2, an error will be raised.\n",
      "Feature names unseen at fit time:\n",
      "- hour\n",
      "- travel_from_cat\n",
      "Feature names seen at fit time, yet now missing:\n",
      "- departure_hour\n",
      "- travel_from_int\n",
      "\n",
      "  warnings.warn(message, FutureWarning)\n"
     ]
    }
   ],
   "source": [
    "X_test = df_test1.drop(['ride_id', 'tickets'], axis=1)\n",
    "y_test = df_test1['tickets']\n",
    "test_set_predictions = rfr.predict(X_test)"
   ]
  },
  {
   "cell_type": "code",
   "execution_count": 55,
   "id": "32723d42",
   "metadata": {},
   "outputs": [
    {
     "name": "stdout",
     "output_type": "stream",
     "text": [
      "3.4266381638163814\n",
      "39.49908022052205\n",
      "-0.423019466789055\n"
     ]
    }
   ],
   "source": [
    "print(mean_absolute_error(test_set_predictions,y_test))\n",
    "print(mean_squared_error(test_set_predictions,y_test))\n",
    "print(r2_score(test_set_predictions,y_test))"
   ]
  },
  {
   "cell_type": "code",
   "execution_count": 56,
   "id": "f60483d8",
   "metadata": {},
   "outputs": [],
   "source": [
    "d = {'ride_id': df_test1[\"ride_id\"], 'tickets': test_set_predictions}\n",
    "df_predictions = pd.DataFrame(data=d)\n",
    "df_predictions = df_predictions[['ride_id','tickets']]"
   ]
  },
  {
   "cell_type": "code",
   "execution_count": 57,
   "id": "e6c161eb",
   "metadata": {},
   "outputs": [
    {
     "data": {
      "text/html": [
       "<div>\n",
       "<style scoped>\n",
       "    .dataframe tbody tr th:only-of-type {\n",
       "        vertical-align: middle;\n",
       "    }\n",
       "\n",
       "    .dataframe tbody tr th {\n",
       "        vertical-align: top;\n",
       "    }\n",
       "\n",
       "    .dataframe thead th {\n",
       "        text-align: right;\n",
       "    }\n",
       "</style>\n",
       "<table border=\"1\" class=\"dataframe\">\n",
       "  <thead>\n",
       "    <tr style=\"text-align: right;\">\n",
       "      <th></th>\n",
       "      <th>ride_id</th>\n",
       "      <th>tickets</th>\n",
       "    </tr>\n",
       "  </thead>\n",
       "  <tbody>\n",
       "    <tr>\n",
       "      <th>0</th>\n",
       "      <td>247</td>\n",
       "      <td>1.83</td>\n",
       "    </tr>\n",
       "    <tr>\n",
       "      <th>1</th>\n",
       "      <td>256</td>\n",
       "      <td>1.60</td>\n",
       "    </tr>\n",
       "    <tr>\n",
       "      <th>2</th>\n",
       "      <td>275</td>\n",
       "      <td>2.59</td>\n",
       "    </tr>\n",
       "    <tr>\n",
       "      <th>3</th>\n",
       "      <td>285</td>\n",
       "      <td>2.51</td>\n",
       "    </tr>\n",
       "    <tr>\n",
       "      <th>4</th>\n",
       "      <td>286</td>\n",
       "      <td>2.08</td>\n",
       "    </tr>\n",
       "  </tbody>\n",
       "</table>\n",
       "</div>"
      ],
      "text/plain": [
       "   ride_id  tickets\n",
       "0      247     1.83\n",
       "1      256     1.60\n",
       "2      275     2.59\n",
       "3      285     2.51\n",
       "4      286     2.08"
      ]
     },
     "execution_count": 57,
     "metadata": {},
     "output_type": "execute_result"
    }
   ],
   "source": [
    "df_predictions.head()"
   ]
  },
  {
   "cell_type": "code",
   "execution_count": 58,
   "id": "fb5d7e5e",
   "metadata": {},
   "outputs": [],
   "source": [
    "df_predictions.to_pickle('data/preds_test_set.pkl')"
   ]
  }
 ],
 "metadata": {
  "kernelspec": {
   "display_name": "Python 3.9.12 ('base')",
   "language": "python",
   "name": "python3"
  },
  "language_info": {
   "codemirror_mode": {
    "name": "ipython",
    "version": 3
   },
   "file_extension": ".py",
   "mimetype": "text/x-python",
   "name": "python",
   "nbconvert_exporter": "python",
   "pygments_lexer": "ipython3",
   "version": "3.9.12"
  },
  "vscode": {
   "interpreter": {
    "hash": "ad2bdc8ecc057115af97d19610ffacc2b4e99fae6737bb82f5d7fb13d2f2c186"
   }
  }
 },
 "nbformat": 4,
 "nbformat_minor": 5
}
